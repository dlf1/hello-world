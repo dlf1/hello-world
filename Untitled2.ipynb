{
  "nbformat": 4,
  "nbformat_minor": 0,
  "metadata": {
    "colab": {
      "name": "Untitled2.ipynb",
      "provenance": [],
      "authorship_tag": "ABX9TyONRNjas/GHKehB7D2bhk9Y",
      "include_colab_link": true
    },
    "kernelspec": {
      "name": "python3",
      "display_name": "Python 3"
    },
    "language_info": {
      "name": "python"
    }
  },
  "cells": [
    {
      "cell_type": "markdown",
      "metadata": {
        "id": "view-in-github",
        "colab_type": "text"
      },
      "source": [
        "<a href=\"https://colab.research.google.com/github/dlf1/hello-world/blob/master/Untitled2.ipynb\" target=\"_parent\"><img src=\"https://colab.research.google.com/assets/colab-badge.svg\" alt=\"Open In Colab\"/></a>"
      ]
    },
    {
      "cell_type": "code",
      "metadata": {
        "id": "brYMs2NmlUhe"
      },
      "source": [
        "\n",
        "!pip install -q torch-scatter -f https://pytorch-geometric.com/whl/torch-1.8.0+cu101.html\n",
        "!pip install -q torch-sparse -f https://pytorch-geometric.com/whl/torch-1.8.0+cu101.html\n",
        "!pip install -q torch-geometric\n",
        "\n",
        "\n",
        "%matplotlib inline\n",
        "import matplotlib.pyplot as plt\n",
        "from sklearn.manifold import TSNE\n",
        "\n",
        "def visualize(h, color, epoch=None, loss=None):\n",
        "    plt.figure(figsize=(7,7))\n",
        "    plt.xticks([])\n",
        "    plt.yticks([])\n",
        "\n",
        "    \n",
        "    nx.draw_networkx(G, pos=nx.spring_layout(G, seed=42), with_labels=False,\n",
        "                         node_color=color, cmap=\"Set2\")\n",
        "    plt.show()"
      ],
      "execution_count": 49,
      "outputs": []
    },
    {
      "cell_type": "code",
      "metadata": {
        "id": "gnwlk9DcA9yc"
      },
      "source": [
        ""
      ],
      "execution_count": 50,
      "outputs": []
    },
    {
      "cell_type": "code",
      "metadata": {
        "id": "8qA49y3eldfu",
        "colab": {
          "base_uri": "https://localhost:8080/"
        },
        "outputId": "c704b63b-fdf8-4e79-ea89-bf6cb500f029"
      },
      "source": [
        "import torch\n",
        "from torch_geometric.datasets import TUDataset\n",
        "\n",
        "dataset = TUDataset(root='data/TUDataset', name='MUTAG')\n",
        "\n",
        "print()\n",
        "print(f'Dataset: {dataset}:')\n",
        "print('====================')\n",
        "print(f'Number of graphs: {len(dataset)}')\n",
        "print(f'Number of features: {dataset.num_features}')\n",
        "print(f'Number of classes: {dataset.num_classes}')\n",
        "\n",
        "data = dataset[0]  # Get the first graph object.\n",
        "\n",
        "print()\n",
        "print(data)\n",
        "print('=============================================================')\n",
        "\n",
        "# Gather some statistics about the first graph.\n",
        "print(f'Number of nodes: {data.num_nodes}')\n",
        "print(f'Number of edges: {data.num_edges}')\n",
        "print(f'Average node degree: {data.num_edges / data.num_nodes:.2f}')\n",
        "print(f'Contains isolated nodes: {data.contains_isolated_nodes()}')\n",
        "print(f'Contains self-loops: {data.contains_self_loops()}')\n",
        "print(f'Is undirected: {data.is_undirected()}')"
      ],
      "execution_count": 32,
      "outputs": [
        {
          "output_type": "stream",
          "text": [
            "Downloading https://www.chrsmrrs.com/graphkerneldatasets/MUTAG.zip\n",
            "Extracting data/TUDataset/MUTAG/MUTAG.zip\n",
            "Processing...\n",
            "Done!\n",
            "\n",
            "Dataset: MUTAG(188):\n",
            "====================\n",
            "Number of graphs: 188\n",
            "Number of features: 7\n",
            "Number of classes: 2\n",
            "\n",
            "Data(edge_attr=[38, 4], edge_index=[2, 38], x=[17, 7], y=[1])\n",
            "=============================================================\n",
            "Number of nodes: 17\n",
            "Number of edges: 38\n",
            "Average node degree: 2.24\n",
            "Contains isolated nodes: False\n",
            "Contains self-loops: False\n",
            "Is undirected: True\n"
          ],
          "name": "stdout"
        }
      ]
    },
    {
      "cell_type": "code",
      "metadata": {
        "id": "R4xS9V7ZljTm",
        "colab": {
          "base_uri": "https://localhost:8080/"
        },
        "outputId": "c69d375e-908e-4e1e-975a-62a84ab285e8"
      },
      "source": [
        "from torch_geometric.data import DataLoader\n",
        "\n",
        "train_loader = DataLoader(train_dataset, batch_size=64, shuffle=True)\n",
        "test_loader = DataLoader(test_dataset, batch_size=64, shuffle=False)\n",
        "\n",
        "for step, data in enumerate(train_loader):\n",
        "    print(f'Step {step + 1}:')\n",
        "    print('=======')\n",
        "    print(f'Number of graphs in the current batch: {data.num_graphs}')\n",
        "    print(data)\n",
        "    print()"
      ],
      "execution_count": 34,
      "outputs": [
        {
          "output_type": "stream",
          "text": [
            "Step 1:\n",
            "=======\n",
            "Number of graphs in the current batch: 64\n",
            "Batch(batch=[1185], edge_attr=[2624, 4], edge_index=[2, 2624], ptr=[65], x=[1185, 7], y=[64])\n",
            "\n",
            "Step 2:\n",
            "=======\n",
            "Number of graphs in the current batch: 64\n",
            "Batch(batch=[1146], edge_attr=[2538, 4], edge_index=[2, 2538], ptr=[65], x=[1146, 7], y=[64])\n",
            "\n",
            "Step 3:\n",
            "=======\n",
            "Number of graphs in the current batch: 22\n",
            "Batch(batch=[383], edge_attr=[832, 4], edge_index=[2, 832], ptr=[23], x=[383, 7], y=[22])\n",
            "\n"
          ],
          "name": "stdout"
        }
      ]
    },
    {
      "cell_type": "code",
      "metadata": {
        "colab": {
          "base_uri": "https://localhost:8080/"
        },
        "id": "M_0s9Ej2lmU8",
        "outputId": "9c028a8e-e040-486f-edce-021537e50a16"
      },
      "source": [
        "from torch.nn import Linear\n",
        "import torch.nn.functional as F\n",
        "from torch_geometric.nn import GCNConv\n",
        "from torch_geometric.nn import global_mean_pool\n",
        "\n",
        "\n",
        "class GCN(torch.nn.Module):\n",
        "    def __init__(self, hidden_channels):\n",
        "        super(GCN, self).__init__()\n",
        "        torch.manual_seed(12345)\n",
        "        self.conv1 = GCNConv(dataset.num_node_features, hidden_channels)\n",
        "        self.conv2 = GCNConv(hidden_channels, hidden_channels)\n",
        "        self.conv3 = GCNConv(hidden_channels, hidden_channels)\n",
        "        self.lin = Linear(hidden_channels, dataset.num_classes)\n",
        "\n",
        "    def forward(self, x, edge_index, batch):\n",
        "        \n",
        "        x = self.conv1(x, edge_index)\n",
        "        x = x.relu()\n",
        "        x = self.conv2(x, edge_index)\n",
        "        x = x.relu()\n",
        "        x = self.conv3(x, edge_index)\n",
        "\n",
        "        x = global_mean_pool(x, batch)  \n",
        "\n",
        " \n",
        "        x = F.dropout(x, p=0.5, training=self.training)\n",
        "        x = self.lin(x)\n",
        "        \n",
        "        return x\n",
        "\n",
        "model = GCN(hidden_channels=64)\n",
        "print(model)"
      ],
      "execution_count": 41,
      "outputs": [
        {
          "output_type": "stream",
          "text": [
            "GCN(\n",
            "  (conv1): GCNConv(7, 64)\n",
            "  (conv2): GCNConv(64, 64)\n",
            "  (conv3): GCNConv(64, 64)\n",
            "  (lin): Linear(in_features=64, out_features=2, bias=True)\n",
            ")\n"
          ],
          "name": "stdout"
        }
      ]
    },
    {
      "cell_type": "code",
      "metadata": {
        "colab": {
          "base_uri": "https://localhost:8080/",
          "height": 300
        },
        "id": "w1YPEKb49KV4",
        "outputId": "f2e70ad6-ed32-4a6e-cdae-35475cdc25b7"
      },
      "source": [
        "from IPython.display import Javascript\n",
        "display(Javascript('''google.colab.output.setIframeHeight(0, true, {maxHeight: 300})'''))\n",
        "\n",
        "model = GCN(hidden_channels=64)\n",
        "optimizer = torch.optim.Adam(model.parameters(), lr=0.01)\n",
        "criterion = torch.nn.CrossEntropyLoss()\n",
        "\n",
        "def train():\n",
        "    model.train()\n",
        "\n",
        "    for data in train_loader:  \n",
        "         out = model(data.x, data.edge_index, data.batch)  \n",
        "         loss = criterion(out, data.y) \n",
        "         loss.backward()  \n",
        "         optimizer.step()  \n",
        "         optimizer.zero_grad() \n",
        "\n",
        "def test(loader):\n",
        "     model.eval()\n",
        "\n",
        "     correct = 0\n",
        "     for data in loader:  \n",
        "         out = model(data.x, data.edge_index, data.batch)  \n",
        "         pred = out.argmax(dim=1)  \n",
        "         correct += int((pred == data.y).sum()) \n",
        "     return correct / len(loader.dataset)  \n",
        "\n",
        "\n",
        "for epoch in range(1, 201):\n",
        "    train()\n",
        "    train_acc = test(train_loader)\n",
        "    test_acc = test(test_loader)\n",
        "    print(f'Epoch: {epoch:03d}, Train Acc: {train_acc:.4f}, Test Acc: {test_acc:.4f}')"
      ],
      "execution_count": 42,
      "outputs": [
        {
          "output_type": "display_data",
          "data": {
            "application/javascript": [
              "google.colab.output.setIframeHeight(0, true, {maxHeight: 300})"
            ],
            "text/plain": [
              "<IPython.core.display.Javascript object>"
            ]
          },
          "metadata": {
            "tags": []
          }
        },
        {
          "output_type": "stream",
          "text": [
            "Epoch: 001, Train Acc: 0.6467, Test Acc: 0.7368\n",
            "Epoch: 002, Train Acc: 0.6467, Test Acc: 0.7368\n",
            "Epoch: 003, Train Acc: 0.6467, Test Acc: 0.7368\n",
            "Epoch: 004, Train Acc: 0.6467, Test Acc: 0.7368\n",
            "Epoch: 005, Train Acc: 0.6600, Test Acc: 0.7368\n",
            "Epoch: 006, Train Acc: 0.7467, Test Acc: 0.7632\n",
            "Epoch: 007, Train Acc: 0.7200, Test Acc: 0.7632\n",
            "Epoch: 008, Train Acc: 0.7267, Test Acc: 0.7895\n",
            "Epoch: 009, Train Acc: 0.7333, Test Acc: 0.7632\n",
            "Epoch: 010, Train Acc: 0.7267, Test Acc: 0.7895\n",
            "Epoch: 011, Train Acc: 0.7333, Test Acc: 0.7895\n",
            "Epoch: 012, Train Acc: 0.7333, Test Acc: 0.7895\n",
            "Epoch: 013, Train Acc: 0.7467, Test Acc: 0.7895\n",
            "Epoch: 014, Train Acc: 0.7467, Test Acc: 0.8158\n",
            "Epoch: 015, Train Acc: 0.7533, Test Acc: 0.7895\n",
            "Epoch: 016, Train Acc: 0.7533, Test Acc: 0.7368\n",
            "Epoch: 017, Train Acc: 0.7533, Test Acc: 0.8158\n",
            "Epoch: 018, Train Acc: 0.7400, Test Acc: 0.7632\n",
            "Epoch: 019, Train Acc: 0.7533, Test Acc: 0.7632\n",
            "Epoch: 020, Train Acc: 0.7600, Test Acc: 0.8158\n",
            "Epoch: 021, Train Acc: 0.7600, Test Acc: 0.7632\n",
            "Epoch: 022, Train Acc: 0.7667, Test Acc: 0.8158\n",
            "Epoch: 023, Train Acc: 0.7733, Test Acc: 0.7632\n",
            "Epoch: 024, Train Acc: 0.7600, Test Acc: 0.7632\n",
            "Epoch: 025, Train Acc: 0.7667, Test Acc: 0.8158\n",
            "Epoch: 026, Train Acc: 0.7733, Test Acc: 0.7632\n",
            "Epoch: 027, Train Acc: 0.7600, Test Acc: 0.7632\n",
            "Epoch: 028, Train Acc: 0.7667, Test Acc: 0.7632\n",
            "Epoch: 029, Train Acc: 0.7733, Test Acc: 0.7895\n",
            "Epoch: 030, Train Acc: 0.7733, Test Acc: 0.7895\n",
            "Epoch: 031, Train Acc: 0.7733, Test Acc: 0.7895\n",
            "Epoch: 032, Train Acc: 0.7733, Test Acc: 0.7895\n",
            "Epoch: 033, Train Acc: 0.7667, Test Acc: 0.7895\n",
            "Epoch: 034, Train Acc: 0.7667, Test Acc: 0.7632\n",
            "Epoch: 035, Train Acc: 0.7467, Test Acc: 0.7368\n",
            "Epoch: 036, Train Acc: 0.7667, Test Acc: 0.7632\n",
            "Epoch: 037, Train Acc: 0.7733, Test Acc: 0.7895\n",
            "Epoch: 038, Train Acc: 0.7733, Test Acc: 0.8158\n",
            "Epoch: 039, Train Acc: 0.7733, Test Acc: 0.8158\n",
            "Epoch: 040, Train Acc: 0.7667, Test Acc: 0.7632\n",
            "Epoch: 041, Train Acc: 0.7667, Test Acc: 0.7632\n",
            "Epoch: 042, Train Acc: 0.7800, Test Acc: 0.7895\n",
            "Epoch: 043, Train Acc: 0.7800, Test Acc: 0.8158\n",
            "Epoch: 044, Train Acc: 0.7667, Test Acc: 0.7632\n",
            "Epoch: 045, Train Acc: 0.7667, Test Acc: 0.7895\n",
            "Epoch: 046, Train Acc: 0.7733, Test Acc: 0.8158\n",
            "Epoch: 047, Train Acc: 0.7533, Test Acc: 0.7632\n",
            "Epoch: 048, Train Acc: 0.7800, Test Acc: 0.7895\n",
            "Epoch: 049, Train Acc: 0.7800, Test Acc: 0.8158\n",
            "Epoch: 050, Train Acc: 0.7600, Test Acc: 0.7632\n",
            "Epoch: 051, Train Acc: 0.7667, Test Acc: 0.7632\n",
            "Epoch: 052, Train Acc: 0.7667, Test Acc: 0.7895\n",
            "Epoch: 053, Train Acc: 0.7667, Test Acc: 0.7632\n",
            "Epoch: 054, Train Acc: 0.7400, Test Acc: 0.7105\n",
            "Epoch: 055, Train Acc: 0.7733, Test Acc: 0.8158\n",
            "Epoch: 056, Train Acc: 0.7933, Test Acc: 0.7105\n",
            "Epoch: 057, Train Acc: 0.7733, Test Acc: 0.8158\n",
            "Epoch: 058, Train Acc: 0.7533, Test Acc: 0.7368\n",
            "Epoch: 059, Train Acc: 0.7533, Test Acc: 0.7368\n",
            "Epoch: 060, Train Acc: 0.7733, Test Acc: 0.8158\n",
            "Epoch: 061, Train Acc: 0.7867, Test Acc: 0.7895\n",
            "Epoch: 062, Train Acc: 0.7733, Test Acc: 0.8158\n",
            "Epoch: 063, Train Acc: 0.7667, Test Acc: 0.7632\n",
            "Epoch: 064, Train Acc: 0.7667, Test Acc: 0.7632\n",
            "Epoch: 065, Train Acc: 0.7667, Test Acc: 0.7632\n",
            "Epoch: 066, Train Acc: 0.7800, Test Acc: 0.8158\n",
            "Epoch: 067, Train Acc: 0.7667, Test Acc: 0.7632\n",
            "Epoch: 068, Train Acc: 0.7800, Test Acc: 0.8158\n",
            "Epoch: 069, Train Acc: 0.7800, Test Acc: 0.8158\n",
            "Epoch: 070, Train Acc: 0.7733, Test Acc: 0.7632\n",
            "Epoch: 071, Train Acc: 0.7733, Test Acc: 0.8158\n",
            "Epoch: 072, Train Acc: 0.8067, Test Acc: 0.7105\n",
            "Epoch: 073, Train Acc: 0.7733, Test Acc: 0.7895\n",
            "Epoch: 074, Train Acc: 0.7600, Test Acc: 0.7105\n",
            "Epoch: 075, Train Acc: 0.7800, Test Acc: 0.8158\n",
            "Epoch: 076, Train Acc: 0.7733, Test Acc: 0.7895\n",
            "Epoch: 077, Train Acc: 0.7733, Test Acc: 0.7632\n",
            "Epoch: 078, Train Acc: 0.7600, Test Acc: 0.7632\n",
            "Epoch: 079, Train Acc: 0.7733, Test Acc: 0.7368\n",
            "Epoch: 080, Train Acc: 0.7933, Test Acc: 0.7368\n",
            "Epoch: 081, Train Acc: 0.7600, Test Acc: 0.7368\n",
            "Epoch: 082, Train Acc: 0.7533, Test Acc: 0.7105\n",
            "Epoch: 083, Train Acc: 0.7733, Test Acc: 0.7632\n",
            "Epoch: 084, Train Acc: 0.7600, Test Acc: 0.7895\n",
            "Epoch: 085, Train Acc: 0.7600, Test Acc: 0.7895\n",
            "Epoch: 086, Train Acc: 0.7733, Test Acc: 0.7632\n",
            "Epoch: 087, Train Acc: 0.7533, Test Acc: 0.7368\n",
            "Epoch: 088, Train Acc: 0.7733, Test Acc: 0.7368\n",
            "Epoch: 089, Train Acc: 0.7800, Test Acc: 0.8158\n",
            "Epoch: 090, Train Acc: 0.7733, Test Acc: 0.7632\n",
            "Epoch: 091, Train Acc: 0.7733, Test Acc: 0.7632\n",
            "Epoch: 092, Train Acc: 0.7733, Test Acc: 0.7632\n",
            "Epoch: 093, Train Acc: 0.7800, Test Acc: 0.8158\n",
            "Epoch: 094, Train Acc: 0.7733, Test Acc: 0.7895\n",
            "Epoch: 095, Train Acc: 0.7733, Test Acc: 0.7368\n",
            "Epoch: 096, Train Acc: 0.7733, Test Acc: 0.7368\n",
            "Epoch: 097, Train Acc: 0.7733, Test Acc: 0.8158\n",
            "Epoch: 098, Train Acc: 0.7733, Test Acc: 0.7895\n",
            "Epoch: 099, Train Acc: 0.7733, Test Acc: 0.7632\n",
            "Epoch: 100, Train Acc: 0.7667, Test Acc: 0.7368\n",
            "Epoch: 101, Train Acc: 0.7667, Test Acc: 0.7632\n",
            "Epoch: 102, Train Acc: 0.7867, Test Acc: 0.7895\n",
            "Epoch: 103, Train Acc: 0.7800, Test Acc: 0.8158\n",
            "Epoch: 104, Train Acc: 0.7733, Test Acc: 0.7368\n",
            "Epoch: 105, Train Acc: 0.7733, Test Acc: 0.7105\n",
            "Epoch: 106, Train Acc: 0.7667, Test Acc: 0.7105\n",
            "Epoch: 107, Train Acc: 0.7800, Test Acc: 0.7632\n",
            "Epoch: 108, Train Acc: 0.7733, Test Acc: 0.7895\n",
            "Epoch: 109, Train Acc: 0.7733, Test Acc: 0.7632\n",
            "Epoch: 110, Train Acc: 0.7733, Test Acc: 0.7368\n",
            "Epoch: 111, Train Acc: 0.7800, Test Acc: 0.7632\n",
            "Epoch: 112, Train Acc: 0.8200, Test Acc: 0.7105\n",
            "Epoch: 113, Train Acc: 0.7667, Test Acc: 0.7368\n",
            "Epoch: 114, Train Acc: 0.7600, Test Acc: 0.7368\n",
            "Epoch: 115, Train Acc: 0.8133, Test Acc: 0.6842\n",
            "Epoch: 116, Train Acc: 0.7733, Test Acc: 0.7632\n",
            "Epoch: 117, Train Acc: 0.7800, Test Acc: 0.7632\n",
            "Epoch: 118, Train Acc: 0.7667, Test Acc: 0.7105\n",
            "Epoch: 119, Train Acc: 0.8133, Test Acc: 0.7368\n",
            "Epoch: 120, Train Acc: 0.7733, Test Acc: 0.7368\n",
            "Epoch: 121, Train Acc: 0.7867, Test Acc: 0.7632\n",
            "Epoch: 122, Train Acc: 0.8067, Test Acc: 0.7105\n",
            "Epoch: 123, Train Acc: 0.7867, Test Acc: 0.7105\n",
            "Epoch: 124, Train Acc: 0.7800, Test Acc: 0.7632\n",
            "Epoch: 125, Train Acc: 0.7800, Test Acc: 0.7368\n",
            "Epoch: 126, Train Acc: 0.8000, Test Acc: 0.7895\n",
            "Epoch: 127, Train Acc: 0.7800, Test Acc: 0.7368\n",
            "Epoch: 128, Train Acc: 0.7733, Test Acc: 0.7632\n",
            "Epoch: 129, Train Acc: 0.7867, Test Acc: 0.7632\n",
            "Epoch: 130, Train Acc: 0.8267, Test Acc: 0.7368\n",
            "Epoch: 131, Train Acc: 0.7933, Test Acc: 0.7632\n",
            "Epoch: 132, Train Acc: 0.7867, Test Acc: 0.7895\n",
            "Epoch: 133, Train Acc: 0.7800, Test Acc: 0.7632\n",
            "Epoch: 134, Train Acc: 0.8067, Test Acc: 0.7632\n",
            "Epoch: 135, Train Acc: 0.7867, Test Acc: 0.7368\n",
            "Epoch: 136, Train Acc: 0.7867, Test Acc: 0.7632\n",
            "Epoch: 137, Train Acc: 0.7867, Test Acc: 0.7632\n",
            "Epoch: 138, Train Acc: 0.8200, Test Acc: 0.7895\n",
            "Epoch: 139, Train Acc: 0.8133, Test Acc: 0.7368\n",
            "Epoch: 140, Train Acc: 0.8000, Test Acc: 0.7632\n",
            "Epoch: 141, Train Acc: 0.7867, Test Acc: 0.7895\n",
            "Epoch: 142, Train Acc: 0.8333, Test Acc: 0.7368\n",
            "Epoch: 143, Train Acc: 0.8067, Test Acc: 0.7632\n",
            "Epoch: 144, Train Acc: 0.8000, Test Acc: 0.7632\n",
            "Epoch: 145, Train Acc: 0.8000, Test Acc: 0.7632\n",
            "Epoch: 146, Train Acc: 0.8067, Test Acc: 0.7632\n",
            "Epoch: 147, Train Acc: 0.7933, Test Acc: 0.7368\n",
            "Epoch: 148, Train Acc: 0.7933, Test Acc: 0.7368\n",
            "Epoch: 149, Train Acc: 0.8067, Test Acc: 0.7368\n",
            "Epoch: 150, Train Acc: 0.8200, Test Acc: 0.7105\n",
            "Epoch: 151, Train Acc: 0.8200, Test Acc: 0.7368\n",
            "Epoch: 152, Train Acc: 0.8067, Test Acc: 0.7368\n",
            "Epoch: 153, Train Acc: 0.8200, Test Acc: 0.7632\n",
            "Epoch: 154, Train Acc: 0.8267, Test Acc: 0.7368\n",
            "Epoch: 155, Train Acc: 0.8400, Test Acc: 0.7105\n",
            "Epoch: 156, Train Acc: 0.8267, Test Acc: 0.6842\n",
            "Epoch: 157, Train Acc: 0.8000, Test Acc: 0.7895\n",
            "Epoch: 158, Train Acc: 0.8133, Test Acc: 0.7895\n",
            "Epoch: 159, Train Acc: 0.8400, Test Acc: 0.7105\n",
            "Epoch: 160, Train Acc: 0.8200, Test Acc: 0.7368\n",
            "Epoch: 161, Train Acc: 0.8333, Test Acc: 0.7105\n",
            "Epoch: 162, Train Acc: 0.8200, Test Acc: 0.7895\n",
            "Epoch: 163, Train Acc: 0.8600, Test Acc: 0.7105\n",
            "Epoch: 164, Train Acc: 0.8533, Test Acc: 0.6842\n",
            "Epoch: 165, Train Acc: 0.8000, Test Acc: 0.7895\n",
            "Epoch: 166, Train Acc: 0.8133, Test Acc: 0.7895\n",
            "Epoch: 167, Train Acc: 0.8400, Test Acc: 0.7105\n",
            "Epoch: 168, Train Acc: 0.8000, Test Acc: 0.6316\n",
            "Epoch: 169, Train Acc: 0.8467, Test Acc: 0.6842\n",
            "Epoch: 170, Train Acc: 0.8000, Test Acc: 0.7895\n",
            "Epoch: 171, Train Acc: 0.8133, Test Acc: 0.8158\n",
            "Epoch: 172, Train Acc: 0.7867, Test Acc: 0.6316\n",
            "Epoch: 173, Train Acc: 0.8133, Test Acc: 0.6316\n",
            "Epoch: 174, Train Acc: 0.8667, Test Acc: 0.7368\n",
            "Epoch: 175, Train Acc: 0.8400, Test Acc: 0.7368\n",
            "Epoch: 176, Train Acc: 0.8600, Test Acc: 0.7105\n",
            "Epoch: 177, Train Acc: 0.8467, Test Acc: 0.7105\n",
            "Epoch: 178, Train Acc: 0.8467, Test Acc: 0.7105\n",
            "Epoch: 179, Train Acc: 0.8467, Test Acc: 0.6842\n",
            "Epoch: 180, Train Acc: 0.8600, Test Acc: 0.6579\n",
            "Epoch: 181, Train Acc: 0.8600, Test Acc: 0.6842\n",
            "Epoch: 182, Train Acc: 0.8467, Test Acc: 0.6842\n",
            "Epoch: 183, Train Acc: 0.8333, Test Acc: 0.6842\n",
            "Epoch: 184, Train Acc: 0.8533, Test Acc: 0.6842\n",
            "Epoch: 185, Train Acc: 0.8733, Test Acc: 0.7105\n",
            "Epoch: 186, Train Acc: 0.8733, Test Acc: 0.7105\n",
            "Epoch: 187, Train Acc: 0.8333, Test Acc: 0.6842\n",
            "Epoch: 188, Train Acc: 0.8267, Test Acc: 0.7105\n",
            "Epoch: 189, Train Acc: 0.8600, Test Acc: 0.6842\n",
            "Epoch: 190, Train Acc: 0.8600, Test Acc: 0.7105\n",
            "Epoch: 191, Train Acc: 0.8533, Test Acc: 0.7105\n",
            "Epoch: 192, Train Acc: 0.8667, Test Acc: 0.7105\n",
            "Epoch: 193, Train Acc: 0.8667, Test Acc: 0.6842\n",
            "Epoch: 194, Train Acc: 0.8733, Test Acc: 0.7105\n",
            "Epoch: 195, Train Acc: 0.8667, Test Acc: 0.6842\n",
            "Epoch: 196, Train Acc: 0.8400, Test Acc: 0.6842\n",
            "Epoch: 197, Train Acc: 0.8267, Test Acc: 0.6842\n",
            "Epoch: 198, Train Acc: 0.8667, Test Acc: 0.7105\n",
            "Epoch: 199, Train Acc: 0.8600, Test Acc: 0.6842\n",
            "Epoch: 200, Train Acc: 0.8467, Test Acc: 0.7105\n"
          ],
          "name": "stdout"
        }
      ]
    },
    {
      "cell_type": "code",
      "metadata": {
        "id": "C-UqTtwslpGe",
        "colab": {
          "base_uri": "https://localhost:8080/",
          "height": 313
        },
        "outputId": "07d7d488-53c2-4157-ce96-4d3e4ee9cfd9"
      },
      "source": [
        ""
      ],
      "execution_count": 44,
      "outputs": [
        {
          "output_type": "error",
          "ename": "NameError",
          "evalue": "ignored",
          "traceback": [
            "\u001b[0;31m---------------------------------------------------------------------------\u001b[0m",
            "\u001b[0;31mNameError\u001b[0m                                 Traceback (most recent call last)",
            "\u001b[0;32m<ipython-input-44-f9fc836094fe>\u001b[0m in \u001b[0;36m<module>\u001b[0;34m()\u001b[0m\n\u001b[1;32m      2\u001b[0m \u001b[0;34m\u001b[0m\u001b[0m\n\u001b[1;32m      3\u001b[0m \u001b[0mG\u001b[0m \u001b[0;34m=\u001b[0m \u001b[0mto_networkx\u001b[0m\u001b[0;34m(\u001b[0m\u001b[0mdata\u001b[0m\u001b[0;34m,\u001b[0m \u001b[0mto_undirected\u001b[0m\u001b[0;34m=\u001b[0m\u001b[0;32mTrue\u001b[0m\u001b[0;34m)\u001b[0m\u001b[0;34m\u001b[0m\u001b[0;34m\u001b[0m\u001b[0m\n\u001b[0;32m----> 4\u001b[0;31m \u001b[0mvisualize\u001b[0m\u001b[0;34m(\u001b[0m\u001b[0mG\u001b[0m\u001b[0;34m,\u001b[0m \u001b[0mcolor\u001b[0m\u001b[0;34m=\u001b[0m\u001b[0mdata\u001b[0m\u001b[0;34m.\u001b[0m\u001b[0my\u001b[0m\u001b[0;34m)\u001b[0m\u001b[0;34m\u001b[0m\u001b[0;34m\u001b[0m\u001b[0m\n\u001b[0m",
            "\u001b[0;32m<ipython-input-31-4acce7ef012a>\u001b[0m in \u001b[0;36mvisualize\u001b[0;34m(h, color)\u001b[0m\n\u001b[1;32m     10\u001b[0m \u001b[0;34m\u001b[0m\u001b[0m\n\u001b[1;32m     11\u001b[0m \u001b[0;32mdef\u001b[0m \u001b[0mvisualize\u001b[0m\u001b[0;34m(\u001b[0m\u001b[0mh\u001b[0m\u001b[0;34m,\u001b[0m \u001b[0mcolor\u001b[0m\u001b[0;34m)\u001b[0m\u001b[0;34m:\u001b[0m\u001b[0;34m\u001b[0m\u001b[0;34m\u001b[0m\u001b[0m\n\u001b[0;32m---> 12\u001b[0;31m     \u001b[0mz\u001b[0m \u001b[0;34m=\u001b[0m \u001b[0mTSNE\u001b[0m\u001b[0;34m(\u001b[0m\u001b[0mn_components\u001b[0m\u001b[0;34m=\u001b[0m\u001b[0;36m2\u001b[0m\u001b[0;34m)\u001b[0m\u001b[0;34m.\u001b[0m\u001b[0mfit_transform\u001b[0m\u001b[0;34m(\u001b[0m\u001b[0mout\u001b[0m\u001b[0;34m.\u001b[0m\u001b[0mdetach\u001b[0m\u001b[0;34m(\u001b[0m\u001b[0;34m)\u001b[0m\u001b[0;34m.\u001b[0m\u001b[0mcpu\u001b[0m\u001b[0;34m(\u001b[0m\u001b[0;34m)\u001b[0m\u001b[0;34m.\u001b[0m\u001b[0mnumpy\u001b[0m\u001b[0;34m(\u001b[0m\u001b[0;34m)\u001b[0m\u001b[0;34m)\u001b[0m\u001b[0;34m\u001b[0m\u001b[0;34m\u001b[0m\u001b[0m\n\u001b[0m\u001b[1;32m     13\u001b[0m \u001b[0;34m\u001b[0m\u001b[0m\n\u001b[1;32m     14\u001b[0m     \u001b[0mplt\u001b[0m\u001b[0;34m.\u001b[0m\u001b[0mfigure\u001b[0m\u001b[0;34m(\u001b[0m\u001b[0mfigsize\u001b[0m\u001b[0;34m=\u001b[0m\u001b[0;34m(\u001b[0m\u001b[0;36m10\u001b[0m\u001b[0;34m,\u001b[0m\u001b[0;36m10\u001b[0m\u001b[0;34m)\u001b[0m\u001b[0;34m)\u001b[0m\u001b[0;34m\u001b[0m\u001b[0;34m\u001b[0m\u001b[0m\n",
            "\u001b[0;31mNameError\u001b[0m: name 'out' is not defined"
          ]
        }
      ]
    },
    {
      "cell_type": "code",
      "metadata": {
        "id": "j11WiUr-PRH_",
        "colab": {
          "base_uri": "https://localhost:8080/"
        },
        "outputId": "40ad1d5c-930c-4394-9800-3a98d41e042f"
      },
      "source": [
        ""
      ],
      "execution_count": 43,
      "outputs": [
        {
          "output_type": "stream",
          "text": [
            "Number of training graphs: 150\n",
            "Number of test graphs: 38\n"
          ],
          "name": "stdout"
        }
      ]
    },
    {
      "cell_type": "code",
      "metadata": {
        "id": "eCI3p_cZmBVc"
      },
      "source": [
        ""
      ],
      "execution_count": null,
      "outputs": []
    },
    {
      "cell_type": "code",
      "metadata": {
        "id": "0gZ-l0npPIca",
        "colab": {
          "base_uri": "https://localhost:8080/"
        },
        "outputId": "e8e343ba-09e7-453a-bf76-c1b10107c14d"
      },
      "source": [
        ""
      ],
      "execution_count": 14,
      "outputs": [
        {
          "output_type": "stream",
          "text": [
            "Step 1:\n",
            "=======\n",
            "Number of graphs in the current batch: 1\n",
            "Batch(batch=[19793], edge_index=[2, 126842], ptr=[2], x=[19793, 8710], y=[19793])\n",
            "\n"
          ],
          "name": "stdout"
        }
      ]
    },
    {
      "cell_type": "code",
      "metadata": {
        "colab": {
          "base_uri": "https://localhost:8080/"
        },
        "id": "a5gfceVmmGE_",
        "outputId": "f58a3a75-9c3a-4461-d556-6aa575db25ff"
      },
      "source": [
        ""
      ],
      "execution_count": 15,
      "outputs": [
        {
          "output_type": "stream",
          "text": [
            "GCN(\n",
            "  (conv1): GCNConv(8710, 64)\n",
            "  (conv2): GCNConv(64, 64)\n",
            "  (conv3): GCNConv(64, 64)\n",
            "  (lin): Linear(in_features=64, out_features=70, bias=True)\n",
            ")\n"
          ],
          "name": "stdout"
        }
      ]
    },
    {
      "cell_type": "code",
      "metadata": {
        "colab": {
          "base_uri": "https://localhost:8080/",
          "height": 300
        },
        "id": "WTfoGM0XmK8c",
        "outputId": "e67bc742-edbe-47f9-d17b-a52059379fcd"
      },
      "source": [
        ""
      ],
      "execution_count": 16,
      "outputs": [
        {
          "output_type": "display_data",
          "data": {
            "application/javascript": [
              "google.colab.output.setIframeHeight(0, true, {maxHeight: 300})"
            ],
            "text/plain": [
              "<IPython.core.display.Javascript object>"
            ]
          },
          "metadata": {
            "tags": []
          }
        },
        {
          "output_type": "error",
          "ename": "ValueError",
          "evalue": "ignored",
          "traceback": [
            "\u001b[0;31m---------------------------------------------------------------------------\u001b[0m",
            "\u001b[0;31mValueError\u001b[0m                                Traceback (most recent call last)",
            "\u001b[0;32m<ipython-input-16-cbe14420f572>\u001b[0m in \u001b[0;36m<module>\u001b[0;34m()\u001b[0m\n\u001b[1;32m     28\u001b[0m \u001b[0;34m\u001b[0m\u001b[0m\n\u001b[1;32m     29\u001b[0m \u001b[0;32mfor\u001b[0m \u001b[0mepoch\u001b[0m \u001b[0;32min\u001b[0m \u001b[0mrange\u001b[0m\u001b[0;34m(\u001b[0m\u001b[0;36m1\u001b[0m\u001b[0;34m,\u001b[0m \u001b[0;36m201\u001b[0m\u001b[0;34m)\u001b[0m\u001b[0;34m:\u001b[0m\u001b[0;34m\u001b[0m\u001b[0;34m\u001b[0m\u001b[0m\n\u001b[0;32m---> 30\u001b[0;31m     \u001b[0mtrain\u001b[0m\u001b[0;34m(\u001b[0m\u001b[0;34m)\u001b[0m\u001b[0;34m\u001b[0m\u001b[0;34m\u001b[0m\u001b[0m\n\u001b[0m\u001b[1;32m     31\u001b[0m     \u001b[0mtrain_acc\u001b[0m \u001b[0;34m=\u001b[0m \u001b[0mtest\u001b[0m\u001b[0;34m(\u001b[0m\u001b[0mtrain_loader\u001b[0m\u001b[0;34m)\u001b[0m\u001b[0;34m\u001b[0m\u001b[0;34m\u001b[0m\u001b[0m\n\u001b[1;32m     32\u001b[0m     \u001b[0mtest_acc\u001b[0m \u001b[0;34m=\u001b[0m \u001b[0mtest\u001b[0m\u001b[0;34m(\u001b[0m\u001b[0mtest_loader\u001b[0m\u001b[0;34m)\u001b[0m\u001b[0;34m\u001b[0m\u001b[0;34m\u001b[0m\u001b[0m\n",
            "\u001b[0;32m<ipython-input-16-cbe14420f572>\u001b[0m in \u001b[0;36mtrain\u001b[0;34m()\u001b[0m\n\u001b[1;32m     11\u001b[0m     \u001b[0;32mfor\u001b[0m \u001b[0mdata\u001b[0m \u001b[0;32min\u001b[0m \u001b[0mtrain_loader\u001b[0m\u001b[0;34m:\u001b[0m  \u001b[0;31m# Iterate in batches over the training dataset.\u001b[0m\u001b[0;34m\u001b[0m\u001b[0;34m\u001b[0m\u001b[0m\n\u001b[1;32m     12\u001b[0m          \u001b[0mout\u001b[0m \u001b[0;34m=\u001b[0m \u001b[0mmodel\u001b[0m\u001b[0;34m(\u001b[0m\u001b[0mdata\u001b[0m\u001b[0;34m.\u001b[0m\u001b[0mx\u001b[0m\u001b[0;34m,\u001b[0m \u001b[0mdata\u001b[0m\u001b[0;34m.\u001b[0m\u001b[0medge_index\u001b[0m\u001b[0;34m,\u001b[0m \u001b[0mdata\u001b[0m\u001b[0;34m.\u001b[0m\u001b[0mbatch\u001b[0m\u001b[0;34m)\u001b[0m  \u001b[0;31m# Perform a single forward pass.\u001b[0m\u001b[0;34m\u001b[0m\u001b[0;34m\u001b[0m\u001b[0m\n\u001b[0;32m---> 13\u001b[0;31m          \u001b[0mloss\u001b[0m \u001b[0;34m=\u001b[0m \u001b[0mcriterion\u001b[0m\u001b[0;34m(\u001b[0m\u001b[0mout\u001b[0m\u001b[0;34m,\u001b[0m \u001b[0mdata\u001b[0m\u001b[0;34m.\u001b[0m\u001b[0my\u001b[0m\u001b[0;34m)\u001b[0m  \u001b[0;31m# Compute the loss.\u001b[0m\u001b[0;34m\u001b[0m\u001b[0;34m\u001b[0m\u001b[0m\n\u001b[0m\u001b[1;32m     14\u001b[0m          \u001b[0mloss\u001b[0m\u001b[0;34m.\u001b[0m\u001b[0mbackward\u001b[0m\u001b[0;34m(\u001b[0m\u001b[0;34m)\u001b[0m  \u001b[0;31m# Derive gradients.\u001b[0m\u001b[0;34m\u001b[0m\u001b[0;34m\u001b[0m\u001b[0m\n\u001b[1;32m     15\u001b[0m          \u001b[0moptimizer\u001b[0m\u001b[0;34m.\u001b[0m\u001b[0mstep\u001b[0m\u001b[0;34m(\u001b[0m\u001b[0;34m)\u001b[0m  \u001b[0;31m# Update parameters based on gradients.\u001b[0m\u001b[0;34m\u001b[0m\u001b[0;34m\u001b[0m\u001b[0m\n",
            "\u001b[0;32m/usr/local/lib/python3.7/dist-packages/torch/nn/modules/module.py\u001b[0m in \u001b[0;36m_call_impl\u001b[0;34m(self, *input, **kwargs)\u001b[0m\n\u001b[1;32m    887\u001b[0m             \u001b[0mresult\u001b[0m \u001b[0;34m=\u001b[0m \u001b[0mself\u001b[0m\u001b[0;34m.\u001b[0m\u001b[0m_slow_forward\u001b[0m\u001b[0;34m(\u001b[0m\u001b[0;34m*\u001b[0m\u001b[0minput\u001b[0m\u001b[0;34m,\u001b[0m \u001b[0;34m**\u001b[0m\u001b[0mkwargs\u001b[0m\u001b[0;34m)\u001b[0m\u001b[0;34m\u001b[0m\u001b[0;34m\u001b[0m\u001b[0m\n\u001b[1;32m    888\u001b[0m         \u001b[0;32melse\u001b[0m\u001b[0;34m:\u001b[0m\u001b[0;34m\u001b[0m\u001b[0;34m\u001b[0m\u001b[0m\n\u001b[0;32m--> 889\u001b[0;31m             \u001b[0mresult\u001b[0m \u001b[0;34m=\u001b[0m \u001b[0mself\u001b[0m\u001b[0;34m.\u001b[0m\u001b[0mforward\u001b[0m\u001b[0;34m(\u001b[0m\u001b[0;34m*\u001b[0m\u001b[0minput\u001b[0m\u001b[0;34m,\u001b[0m \u001b[0;34m**\u001b[0m\u001b[0mkwargs\u001b[0m\u001b[0;34m)\u001b[0m\u001b[0;34m\u001b[0m\u001b[0;34m\u001b[0m\u001b[0m\n\u001b[0m\u001b[1;32m    890\u001b[0m         for hook in itertools.chain(\n\u001b[1;32m    891\u001b[0m                 \u001b[0m_global_forward_hooks\u001b[0m\u001b[0;34m.\u001b[0m\u001b[0mvalues\u001b[0m\u001b[0;34m(\u001b[0m\u001b[0;34m)\u001b[0m\u001b[0;34m,\u001b[0m\u001b[0;34m\u001b[0m\u001b[0;34m\u001b[0m\u001b[0m\n",
            "\u001b[0;32m/usr/local/lib/python3.7/dist-packages/torch/nn/modules/loss.py\u001b[0m in \u001b[0;36mforward\u001b[0;34m(self, input, target)\u001b[0m\n\u001b[1;32m   1046\u001b[0m         \u001b[0;32massert\u001b[0m \u001b[0mself\u001b[0m\u001b[0;34m.\u001b[0m\u001b[0mweight\u001b[0m \u001b[0;32mis\u001b[0m \u001b[0;32mNone\u001b[0m \u001b[0;32mor\u001b[0m \u001b[0misinstance\u001b[0m\u001b[0;34m(\u001b[0m\u001b[0mself\u001b[0m\u001b[0;34m.\u001b[0m\u001b[0mweight\u001b[0m\u001b[0;34m,\u001b[0m \u001b[0mTensor\u001b[0m\u001b[0;34m)\u001b[0m\u001b[0;34m\u001b[0m\u001b[0;34m\u001b[0m\u001b[0m\n\u001b[1;32m   1047\u001b[0m         return F.cross_entropy(input, target, weight=self.weight,\n\u001b[0;32m-> 1048\u001b[0;31m                                ignore_index=self.ignore_index, reduction=self.reduction)\n\u001b[0m\u001b[1;32m   1049\u001b[0m \u001b[0;34m\u001b[0m\u001b[0m\n\u001b[1;32m   1050\u001b[0m \u001b[0;34m\u001b[0m\u001b[0m\n",
            "\u001b[0;32m/usr/local/lib/python3.7/dist-packages/torch/nn/functional.py\u001b[0m in \u001b[0;36mcross_entropy\u001b[0;34m(input, target, weight, size_average, ignore_index, reduce, reduction)\u001b[0m\n\u001b[1;32m   2691\u001b[0m     \u001b[0;32mif\u001b[0m \u001b[0msize_average\u001b[0m \u001b[0;32mis\u001b[0m \u001b[0;32mnot\u001b[0m \u001b[0;32mNone\u001b[0m \u001b[0;32mor\u001b[0m \u001b[0mreduce\u001b[0m \u001b[0;32mis\u001b[0m \u001b[0;32mnot\u001b[0m \u001b[0;32mNone\u001b[0m\u001b[0;34m:\u001b[0m\u001b[0;34m\u001b[0m\u001b[0;34m\u001b[0m\u001b[0m\n\u001b[1;32m   2692\u001b[0m         \u001b[0mreduction\u001b[0m \u001b[0;34m=\u001b[0m \u001b[0m_Reduction\u001b[0m\u001b[0;34m.\u001b[0m\u001b[0mlegacy_get_string\u001b[0m\u001b[0;34m(\u001b[0m\u001b[0msize_average\u001b[0m\u001b[0;34m,\u001b[0m \u001b[0mreduce\u001b[0m\u001b[0;34m)\u001b[0m\u001b[0;34m\u001b[0m\u001b[0;34m\u001b[0m\u001b[0m\n\u001b[0;32m-> 2693\u001b[0;31m     \u001b[0;32mreturn\u001b[0m \u001b[0mnll_loss\u001b[0m\u001b[0;34m(\u001b[0m\u001b[0mlog_softmax\u001b[0m\u001b[0;34m(\u001b[0m\u001b[0minput\u001b[0m\u001b[0;34m,\u001b[0m \u001b[0;36m1\u001b[0m\u001b[0;34m)\u001b[0m\u001b[0;34m,\u001b[0m \u001b[0mtarget\u001b[0m\u001b[0;34m,\u001b[0m \u001b[0mweight\u001b[0m\u001b[0;34m,\u001b[0m \u001b[0;32mNone\u001b[0m\u001b[0;34m,\u001b[0m \u001b[0mignore_index\u001b[0m\u001b[0;34m,\u001b[0m \u001b[0;32mNone\u001b[0m\u001b[0;34m,\u001b[0m \u001b[0mreduction\u001b[0m\u001b[0;34m)\u001b[0m\u001b[0;34m\u001b[0m\u001b[0;34m\u001b[0m\u001b[0m\n\u001b[0m\u001b[1;32m   2694\u001b[0m \u001b[0;34m\u001b[0m\u001b[0m\n\u001b[1;32m   2695\u001b[0m \u001b[0;34m\u001b[0m\u001b[0m\n",
            "\u001b[0;32m/usr/local/lib/python3.7/dist-packages/torch/nn/functional.py\u001b[0m in \u001b[0;36mnll_loss\u001b[0;34m(input, target, weight, size_average, ignore_index, reduce, reduction)\u001b[0m\n\u001b[1;32m   2383\u001b[0m     \u001b[0;32mif\u001b[0m \u001b[0minput\u001b[0m\u001b[0;34m.\u001b[0m\u001b[0msize\u001b[0m\u001b[0;34m(\u001b[0m\u001b[0;36m0\u001b[0m\u001b[0;34m)\u001b[0m \u001b[0;34m!=\u001b[0m \u001b[0mtarget\u001b[0m\u001b[0;34m.\u001b[0m\u001b[0msize\u001b[0m\u001b[0;34m(\u001b[0m\u001b[0;36m0\u001b[0m\u001b[0;34m)\u001b[0m\u001b[0;34m:\u001b[0m\u001b[0;34m\u001b[0m\u001b[0;34m\u001b[0m\u001b[0m\n\u001b[1;32m   2384\u001b[0m         raise ValueError(\n\u001b[0;32m-> 2385\u001b[0;31m             \u001b[0;34m\"Expected input batch_size ({}) to match target batch_size ({}).\"\u001b[0m\u001b[0;34m.\u001b[0m\u001b[0mformat\u001b[0m\u001b[0;34m(\u001b[0m\u001b[0minput\u001b[0m\u001b[0;34m.\u001b[0m\u001b[0msize\u001b[0m\u001b[0;34m(\u001b[0m\u001b[0;36m0\u001b[0m\u001b[0;34m)\u001b[0m\u001b[0;34m,\u001b[0m \u001b[0mtarget\u001b[0m\u001b[0;34m.\u001b[0m\u001b[0msize\u001b[0m\u001b[0;34m(\u001b[0m\u001b[0;36m0\u001b[0m\u001b[0;34m)\u001b[0m\u001b[0;34m)\u001b[0m\u001b[0;34m\u001b[0m\u001b[0;34m\u001b[0m\u001b[0m\n\u001b[0m\u001b[1;32m   2386\u001b[0m         )\n\u001b[1;32m   2387\u001b[0m     \u001b[0;32mif\u001b[0m \u001b[0mdim\u001b[0m \u001b[0;34m==\u001b[0m \u001b[0;36m2\u001b[0m\u001b[0;34m:\u001b[0m\u001b[0;34m\u001b[0m\u001b[0;34m\u001b[0m\u001b[0m\n",
            "\u001b[0;31mValueError\u001b[0m: Expected input batch_size (1) to match target batch_size (19793)."
          ]
        }
      ]
    },
    {
      "cell_type": "code",
      "metadata": {
        "id": "jzYFHig3mOxF"
      },
      "source": [
        ""
      ],
      "execution_count": null,
      "outputs": []
    }
  ]
}